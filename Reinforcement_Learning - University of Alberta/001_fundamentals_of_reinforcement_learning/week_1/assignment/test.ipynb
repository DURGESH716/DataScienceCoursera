{
 "cells": [
  {
   "cell_type": "code",
   "execution_count": 32,
   "metadata": {},
   "outputs": [
    {
     "name": "stdout",
     "output_type": "stream",
     "text": [
      "3.4583333333333335\n",
      "3.4583333333333335\n"
     ]
    }
   ],
   "source": [
    "# \n",
    "alpha = 1 / (7 - 1)\n",
    "\n",
    "# Estimated value\n",
    "Q_n = old_estimated = 3.75\n",
    "\n",
    "# Reward \n",
    "R_n = target = 2\n",
    "\n",
    "Q_n1 = Q_n + alpha * (R_n - Q_n)\n",
    "print(Q_n1)\n",
    "\n",
    "Qn_1 = old_estimated + alpha * (target - old_estimated)\n",
    "print(Qn_1)"
   ]
  },
  {
   "cell_type": "code",
   "execution_count": 28,
   "metadata": {},
   "outputs": [
    {
     "name": "stdout",
     "output_type": "stream",
     "text": [
      "3.5\n",
      "3.5\n"
     ]
    }
   ],
   "source": [
    "Q_n1 = Q_n + alpha * (R_n - Q_n)\n",
    "print(Q_n1)\n",
    "\n",
    "Qn_1 = old_estimated + alpha * (target - old_estimated)\n",
    "print(Qn_1)"
   ]
  }
 ],
 "metadata": {
  "interpreter": {
   "hash": "d76c64e05c1972b8fd5e6b4c4ed2e7d509f68fe9a3355d520b41deff7204bf24"
  },
  "kernelspec": {
   "display_name": "Python 3.9.6 64-bit",
   "name": "python3"
  },
  "language_info": {
   "codemirror_mode": {
    "name": "ipython",
    "version": 3
   },
   "file_extension": ".py",
   "mimetype": "text/x-python",
   "name": "python",
   "nbconvert_exporter": "python",
   "pygments_lexer": "ipython3",
   "version": "3.9.6"
  },
  "orig_nbformat": 4
 },
 "nbformat": 4,
 "nbformat_minor": 2
}
