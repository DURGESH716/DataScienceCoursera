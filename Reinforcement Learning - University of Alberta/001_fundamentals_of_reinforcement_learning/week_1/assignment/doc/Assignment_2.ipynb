{
 "cells": [
  {
   "cell_type": "code",
   "execution_count": 4,
   "metadata": {},
   "outputs": [],
   "source": [
    "R1 = -3 \n",
    "R2 = 5\n",
    "R3 = 2\n",
    "R4 = 7\n",
    "R5 = 1\n",
    "T  = 5\n",
    "gamma = 0.8"
   ]
  },
  {
   "cell_type": "code",
   "execution_count": 6,
   "metadata": {},
   "outputs": [
    {
     "name": "stdout",
     "output_type": "stream",
     "text": [
      "9.0\n"
     ]
    }
   ],
   "source": [
    "Gt_1 = R2 + R3 + R4 + R5\n",
    "\n",
    "Gt = R1 + gamma * (Gt_1)\n",
    "print(Gt)"
   ]
  }
 ],
 "metadata": {
  "interpreter": {
   "hash": "d76c64e05c1972b8fd5e6b4c4ed2e7d509f68fe9a3355d520b41deff7204bf24"
  },
  "kernelspec": {
   "display_name": "Python 3.9.6 64-bit",
   "name": "python3"
  },
  "language_info": {
   "codemirror_mode": {
    "name": "ipython",
    "version": 3
   },
   "file_extension": ".py",
   "mimetype": "text/x-python",
   "name": "python",
   "nbconvert_exporter": "python",
   "pygments_lexer": "ipython3",
   "version": "3.9.6"
  },
  "orig_nbformat": 4
 },
 "nbformat": 4,
 "nbformat_minor": 2
}
